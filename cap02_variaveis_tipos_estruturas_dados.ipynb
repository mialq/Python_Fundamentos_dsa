{
 "cells": [
  {
   "cell_type": "markdown",
   "id": "fb149135",
   "metadata": {},
   "source": [
    "## Aula Capitulo 02 - Python Fundamentos "
   ]
  },
  {
   "cell_type": "markdown",
   "id": "b46a4cd0",
   "metadata": {},
   "source": [
    "#### Números e Operações Matemáticas"
   ]
  },
  {
   "cell_type": "code",
   "execution_count": 1,
   "id": "2ea7ed56",
   "metadata": {},
   "outputs": [
    {
     "data": {
      "text/plain": [
       "4"
      ]
     },
     "execution_count": 1,
     "metadata": {},
     "output_type": "execute_result"
    }
   ],
   "source": [
    "# soma\n",
    "2+2"
   ]
  },
  {
   "cell_type": "code",
   "execution_count": 2,
   "id": "305d8d3f",
   "metadata": {},
   "outputs": [
    {
     "data": {
      "text/plain": [
       "7"
      ]
     },
     "execution_count": 2,
     "metadata": {},
     "output_type": "execute_result"
    }
   ],
   "source": [
    "# subtração\n",
    "9-2"
   ]
  },
  {
   "cell_type": "code",
   "execution_count": 3,
   "id": "ddc47d7a",
   "metadata": {},
   "outputs": [
    {
     "data": {
      "text/plain": [
       "9"
      ]
     },
     "execution_count": 3,
     "metadata": {},
     "output_type": "execute_result"
    }
   ],
   "source": [
    "# Multiplicação\n",
    "3*3"
   ]
  },
  {
   "cell_type": "code",
   "execution_count": 8,
   "id": "c226a912",
   "metadata": {},
   "outputs": [
    {
     "data": {
      "text/plain": [
       "5.0"
      ]
     },
     "execution_count": 8,
     "metadata": {},
     "output_type": "execute_result"
    }
   ],
   "source": [
    "# Divisão\n",
    "10/2"
   ]
  },
  {
   "cell_type": "code",
   "execution_count": 5,
   "id": "25d8644e",
   "metadata": {},
   "outputs": [
    {
     "data": {
      "text/plain": [
       "9"
      ]
     },
     "execution_count": 5,
     "metadata": {},
     "output_type": "execute_result"
    }
   ],
   "source": [
    "# Potencia\n",
    "3**2\n"
   ]
  },
  {
   "cell_type": "code",
   "execution_count": 6,
   "id": "a5efda1c",
   "metadata": {},
   "outputs": [
    {
     "data": {
      "text/plain": [
       "1"
      ]
     },
     "execution_count": 6,
     "metadata": {},
     "output_type": "execute_result"
    }
   ],
   "source": [
    "# Módulo - resto da divisão\n",
    "10 % 3\n"
   ]
  },
  {
   "cell_type": "markdown",
   "id": "fec61002",
   "metadata": {},
   "source": [
    "#### Função Type - utilizada para saber o tipo de dado"
   ]
  },
  {
   "cell_type": "code",
   "execution_count": 9,
   "id": "b3050982",
   "metadata": {},
   "outputs": [
    {
     "data": {
      "text/plain": [
       "int"
      ]
     },
     "execution_count": 9,
     "metadata": {},
     "output_type": "execute_result"
    }
   ],
   "source": [
    "type(5)"
   ]
  },
  {
   "cell_type": "code",
   "execution_count": 10,
   "id": "5d1d05ab",
   "metadata": {},
   "outputs": [
    {
     "data": {
      "text/plain": [
       "str"
      ]
     },
     "execution_count": 10,
     "metadata": {},
     "output_type": "execute_result"
    }
   ],
   "source": [
    "type('Michele')"
   ]
  },
  {
   "cell_type": "code",
   "execution_count": 11,
   "id": "c75b8703",
   "metadata": {},
   "outputs": [
    {
     "data": {
      "text/plain": [
       "float"
      ]
     },
     "execution_count": 11,
     "metadata": {},
     "output_type": "execute_result"
    }
   ],
   "source": [
    "type(2.1)"
   ]
  },
  {
   "cell_type": "code",
   "execution_count": 12,
   "id": "7126eb61",
   "metadata": {},
   "outputs": [
    {
     "data": {
      "text/plain": [
       "str"
      ]
     },
     "execution_count": 12,
     "metadata": {},
     "output_type": "execute_result"
    }
   ],
   "source": [
    "a = 'Eu sou inteligente'\n",
    "type(a)"
   ]
  },
  {
   "cell_type": "markdown",
   "id": "f32c63f4",
   "metadata": {},
   "source": [
    "#### Operações com números Float"
   ]
  },
  {
   "cell_type": "code",
   "execution_count": 13,
   "id": "33daef86",
   "metadata": {},
   "outputs": [
    {
     "data": {
      "text/plain": [
       "2.4"
      ]
     },
     "execution_count": 13,
     "metadata": {},
     "output_type": "execute_result"
    }
   ],
   "source": [
    "# soma de float com float\n",
    "1.2 + 1.2"
   ]
  },
  {
   "cell_type": "code",
   "execution_count": 14,
   "id": "a515a99a",
   "metadata": {},
   "outputs": [
    {
     "data": {
      "text/plain": [
       "4.3"
      ]
     },
     "execution_count": 14,
     "metadata": {},
     "output_type": "execute_result"
    }
   ],
   "source": [
    "# soma de int com float, e o resultado é float\n",
    "3 + 1.3"
   ]
  },
  {
   "cell_type": "code",
   "execution_count": 15,
   "id": "cb77f640",
   "metadata": {},
   "outputs": [
    {
     "data": {
      "text/plain": [
       "4"
      ]
     },
     "execution_count": 15,
     "metadata": {},
     "output_type": "execute_result"
    }
   ],
   "source": [
    "# soma de int com int, e o resultado é int\n",
    "1 + 3"
   ]
  },
  {
   "cell_type": "code",
   "execution_count": 16,
   "id": "ff8cb3df",
   "metadata": {},
   "outputs": [
    {
     "data": {
      "text/plain": [
       "5.0"
      ]
     },
     "execution_count": 16,
     "metadata": {},
     "output_type": "execute_result"
    }
   ],
   "source": [
    "# divisão com uma barra '/', retorna um resultado float, pois é o padrao do python\n",
    "\n",
    "10/2"
   ]
  },
  {
   "cell_type": "code",
   "execution_count": 17,
   "id": "d34a75f9",
   "metadata": {},
   "outputs": [
    {
     "data": {
      "text/plain": [
       "5"
      ]
     },
     "execution_count": 17,
     "metadata": {},
     "output_type": "execute_result"
    }
   ],
   "source": [
    "# Para ter o resultado da divisão um numero int, devo usar duas barras\n",
    "10//2"
   ]
  },
  {
   "cell_type": "markdown",
   "id": "fdfd9b95",
   "metadata": {},
   "source": [
    "#### Conversão"
   ]
  },
  {
   "cell_type": "code",
   "execution_count": 18,
   "id": "f671f367",
   "metadata": {},
   "outputs": [
    {
     "data": {
      "text/plain": [
       "9.0"
      ]
     },
     "execution_count": 18,
     "metadata": {},
     "output_type": "execute_result"
    }
   ],
   "source": [
    "# converter um numero int para float\n",
    "float(9)"
   ]
  },
  {
   "cell_type": "code",
   "execution_count": 21,
   "id": "81eff22f",
   "metadata": {},
   "outputs": [
    {
     "data": {
      "text/plain": [
       "5"
      ]
     },
     "execution_count": 21,
     "metadata": {},
     "output_type": "execute_result"
    }
   ],
   "source": [
    "# converter um numero float para int, o python apenas pega a parte inteira, nao faz o arredondamento\n",
    "int(5.0)"
   ]
  },
  {
   "cell_type": "code",
   "execution_count": 20,
   "id": "a029f50a",
   "metadata": {},
   "outputs": [
    {
     "data": {
      "text/plain": [
       "5"
      ]
     },
     "execution_count": 20,
     "metadata": {},
     "output_type": "execute_result"
    }
   ],
   "source": [
    "# converter um numero float para int, o python apenas pega a parte inteira, nao faz o arredondamento\n",
    "int(5.5)"
   ]
  },
  {
   "cell_type": "markdown",
   "id": "7a7d85b2",
   "metadata": {},
   "source": [
    "### Hexadecimal e Binário"
   ]
  },
  {
   "cell_type": "code",
   "execution_count": 22,
   "id": "bd25c088",
   "metadata": {},
   "outputs": [
    {
     "data": {
      "text/plain": [
       "'0x22'"
      ]
     },
     "execution_count": 22,
     "metadata": {},
     "output_type": "execute_result"
    }
   ],
   "source": [
    "hex(34)"
   ]
  },
  {
   "cell_type": "code",
   "execution_count": 23,
   "id": "3417686a",
   "metadata": {},
   "outputs": [
    {
     "data": {
      "text/plain": [
       "'0x7f'"
      ]
     },
     "execution_count": 23,
     "metadata": {},
     "output_type": "execute_result"
    }
   ],
   "source": [
    "hex(127)"
   ]
  },
  {
   "cell_type": "code",
   "execution_count": 24,
   "id": "d40843fe",
   "metadata": {},
   "outputs": [
    {
     "data": {
      "text/plain": [
       "'0b100011110'"
      ]
     },
     "execution_count": 24,
     "metadata": {},
     "output_type": "execute_result"
    }
   ],
   "source": [
    "bin(286)"
   ]
  },
  {
   "cell_type": "code",
   "execution_count": 25,
   "id": "f8f758ff",
   "metadata": {},
   "outputs": [
    {
     "data": {
      "text/plain": [
       "'0b111001000'"
      ]
     },
     "execution_count": 25,
     "metadata": {},
     "output_type": "execute_result"
    }
   ],
   "source": [
    "bin(456)"
   ]
  },
  {
   "cell_type": "markdown",
   "id": "91a09eac",
   "metadata": {},
   "source": [
    "### Funções Built in - São funcoes próprias do python. "
   ]
  },
  {
   "cell_type": "code",
   "execution_count": 27,
   "id": "04d92b6d",
   "metadata": {},
   "outputs": [
    {
     "data": {
      "text/plain": [
       "8"
      ]
     },
     "execution_count": 27,
     "metadata": {},
     "output_type": "execute_result"
    }
   ],
   "source": [
    "# Retorna o valor absoluto.\n",
    "abs(-8)"
   ]
  },
  {
   "cell_type": "code",
   "execution_count": 28,
   "id": "6b89c008",
   "metadata": {},
   "outputs": [
    {
     "data": {
      "text/plain": [
       "8"
      ]
     },
     "execution_count": 28,
     "metadata": {},
     "output_type": "execute_result"
    }
   ],
   "source": [
    "# Retorna o valor absoluto.\n",
    "abs(8)"
   ]
  },
  {
   "cell_type": "code",
   "execution_count": 32,
   "id": "1f4aa090",
   "metadata": {},
   "outputs": [
    {
     "data": {
      "text/plain": [
       "3.45"
      ]
     },
     "execution_count": 32,
     "metadata": {},
     "output_type": "execute_result"
    }
   ],
   "source": [
    "# Round o valor com arredondamento. Vai arredondar o número com duas casas decimais.\n",
    "round(3.45452775249, 2)"
   ]
  },
  {
   "cell_type": "code",
   "execution_count": 33,
   "id": "77d53ad0",
   "metadata": {},
   "outputs": [
    {
     "data": {
      "text/plain": [
       "16"
      ]
     },
     "execution_count": 33,
     "metadata": {},
     "output_type": "execute_result"
    }
   ],
   "source": [
    "# potencia\n",
    "pow(4,2)"
   ]
  },
  {
   "cell_type": "code",
   "execution_count": null,
   "id": "7efceef3",
   "metadata": {},
   "outputs": [],
   "source": []
  },
  {
   "cell_type": "markdown",
   "id": "03686757",
   "metadata": {},
   "source": [
    "# Fim!"
   ]
  },
  {
   "cell_type": "markdown",
   "id": "704f3bf9",
   "metadata": {},
   "source": [
    "### Obrigada!! Michele Teixeira - <a href=\"http:www.linkedin.com/in/michelequeiroz\">www.linkedin.com/in/michelequeiroz</a>"
   ]
  }
 ],
 "metadata": {
  "kernelspec": {
   "display_name": "Python 3 (ipykernel)",
   "language": "python",
   "name": "python3"
  },
  "language_info": {
   "codemirror_mode": {
    "name": "ipython",
    "version": 3
   },
   "file_extension": ".py",
   "mimetype": "text/x-python",
   "name": "python",
   "nbconvert_exporter": "python",
   "pygments_lexer": "ipython3",
   "version": "3.9.12"
  }
 },
 "nbformat": 4,
 "nbformat_minor": 5
}
